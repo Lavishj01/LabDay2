{
 "cells": [
  {
   "cell_type": "code",
   "execution_count": 14,
   "id": "ec3dead6-8d7b-4f1a-837f-072b204a3650",
   "metadata": {},
   "outputs": [
    {
     "name": "stdout",
     "output_type": "stream",
     "text": [
      "xxxxx\n"
     ]
    }
   ],
   "source": [
    "def n_char(n, c):\n",
    "    result = ''\n",
    "    for i in range(n):\n",
    "        result += c\n",
    "    return result\n",
    "print(n_char(5, 'x'))"
   ]
  },
  {
   "cell_type": "code",
   "execution_count": 21,
   "id": "415610f7-f8bc-4676-8a58-8fd4526b3529",
   "metadata": {},
   "outputs": [
    {
     "name": "stdout",
     "output_type": "stream",
     "text": [
      "999990\n"
     ]
    }
   ],
   "source": [
    "def max_in_list(list):\n",
    "    n=len(list)\n",
    "    for i in range(0,n-1):\n",
    "        if(list[i]>list[i+1]):\n",
    "            list[i],list[i+1]=list[i+1],list[i]\n",
    "    print(list[-1])\n",
    "list=[1212,6,89,9090,999990]\n",
    "max_in_list(list)"
   ]
  },
  {
   "cell_type": "code",
   "execution_count": 30,
   "id": "01227eac-81c7-497c-b7d6-d171699a1739",
   "metadata": {},
   "outputs": [
    {
     "name": "stdout",
     "output_type": "stream",
     "text": [
      "[2, 3, 6, 10]\n"
     ]
    }
   ],
   "source": [
    "def map(list):\n",
    "    list_len=[]\n",
    "    for i in list:\n",
    "        k=len(i)\n",
    "        list_len.append(k)\n",
    "    print(list_len)\n",
    "list=[\"hi\",\"bye\",\"lavish\",\"Javascript\"]\n",
    "map(list)\n"
   ]
  },
  {
   "cell_type": "code",
   "execution_count": 32,
   "id": "e28f5f2b-132a-4065-9030-6cefe7fcb5d8",
   "metadata": {},
   "outputs": [
    {
     "name": "stdout",
     "output_type": "stream",
     "text": [
      "10\n"
     ]
    }
   ],
   "source": [
    "def map(list):\n",
    "    list_len=[]\n",
    "    n=len(list_len)\n",
    "    for i in list:\n",
    "        k=len(i)\n",
    "        list_len.append(k)\n",
    "    for i in range(0,n-1):\n",
    "        if(list_len[i]>list_len[i+1]):\n",
    "            list_len[i],list_len[i+1]=list_len[i+1],list_len[i]\n",
    "    print(list_len[-1])\n",
    "    \n",
    "list=[\"hi\",\"bye\",\"lavish\",\"Javascript\"]\n",
    "map(list)\n"
   ]
  },
  {
   "cell_type": "code",
   "execution_count": 3,
   "id": "a6020120-89ec-4c16-a766-0fc54c3eb661",
   "metadata": {},
   "outputs": [
    {
     "name": "stdout",
     "output_type": "stream",
     "text": [
      "['lavish', 'Javascript']\n"
     ]
    }
   ],
   "source": [
    "def filter_long_words(list,n):\n",
    "    new_list=[]\n",
    "    for i in list:\n",
    "        if(len(i)>n):\n",
    "            new_list.append(i)\n",
    "    print(new_list)\n",
    "    \n",
    "list=[\"hi\",\"bye\",\"lavish\",\"Javascript\"]\n",
    "filter_long_words(list,3)"
   ]
  },
  {
   "cell_type": "code",
   "execution_count": 12,
   "id": "e8ae6cc2-7db0-4e57-8313-6f39242eddb6",
   "metadata": {},
   "outputs": [
    {
     "name": "stdout",
     "output_type": "stream",
     "text": [
      "True\n"
     ]
    }
   ],
   "source": [
    "def palindrome(str):\n",
    "    length=len(str)\n",
    "    mid=length//2\n",
    "    for i in range(mid):\n",
    "        if str[i] != str[length - 1 - i]:\n",
    "            return False\n",
    "    return True\n",
    "print(palindrome(\"wasitaratisaw\"))\n",
    "\n"
   ]
  },
  {
   "cell_type": "code",
   "execution_count": 13,
   "id": "1bd5f1e4-4b97-4ce1-a718-ce06d43e0fac",
   "metadata": {},
   "outputs": [
    {
     "data": {
      "text/plain": [
       "True"
      ]
     },
     "execution_count": 13,
     "metadata": {},
     "output_type": "execute_result"
    }
   ],
   "source": [
    "def pangram(str):\n",
    "    alphabets=set('abcdefghijklmnopqrstuvwxyz')\n",
    "    letters=set()\n",
    "    for i in str.lower():\n",
    "        if i in alphabets:\n",
    "            letters.add(i)\n",
    "    return len(letters)>=len(alphabets)\n",
    "str1 = \"The quick brown fox jumps over the lazy dog\"\n",
    "str2= \"Hey there\"\n",
    "pangram(str1)\n",
    "# pangram(str2)\n",
    "    "
   ]
  },
  {
   "cell_type": "code",
   "execution_count": 17,
   "id": "7fcdb5a0-73df-4c8e-9911-f0f84da09d83",
   "metadata": {},
   "outputs": [
    {
     "name": "stdout",
     "output_type": "stream",
     "text": [
      "god jul och gott nytt år\n"
     ]
    }
   ],
   "source": [
    "lexicon={\"merry\":\"god\",\n",
    "\"christmas\":\"jul\", \"and\":\"och\", \"happy\":\"gott\", \"new\":\"nytt\", \"year\":\"år\"}\n",
    "def Translate(english_words):\n",
    "    translation=[]\n",
    "    for word in english_words:\n",
    "        translation_words=lexicon.get(word.lower(),word)\n",
    "        translation.append(translation_words)\n",
    "    return translation\n",
    "english_phrase = [\"merry\", \"christmas\", \"and\", \"happy\", \"new\", \"year\"]\n",
    "print(\" \".join(Translate(english_phrase)))\n",
    "\n"
   ]
  },
  {
   "cell_type": "code",
   "execution_count": 1,
   "id": "87bab623-7cec-46f4-a601-92ca5ee5fc18",
   "metadata": {},
   "outputs": [
    {
     "name": "stdout",
     "output_type": "stream",
     "text": [
      "{'a': 3, 'b': 3, 'c': 3, 'd': 3}\n"
     ]
    }
   ],
   "source": [
    "def char_freq(str):\n",
    "    freq={}\n",
    "    for char in str:\n",
    "       if char in freq: \n",
    "            freq[char]+=1\n",
    "       else:\n",
    "           freq[char]=1\n",
    "    print(freq)\n",
    "char_freq(\"abcdabcdabcd\")"
   ]
  },
  {
   "cell_type": "code",
   "execution_count": null,
   "id": "ec40e08b-46ed-446d-9880-43bcfe702903",
   "metadata": {},
   "outputs": [],
   "source": []
  }
 ],
 "metadata": {
  "kernelspec": {
   "display_name": "Python 3 (ipykernel)",
   "language": "python",
   "name": "python3"
  },
  "language_info": {
   "codemirror_mode": {
    "name": "ipython",
    "version": 3
   },
   "file_extension": ".py",
   "mimetype": "text/x-python",
   "name": "python",
   "nbconvert_exporter": "python",
   "pygments_lexer": "ipython3",
   "version": "3.10.4"
  }
 },
 "nbformat": 4,
 "nbformat_minor": 5
}
